{
  "nbformat": 4,
  "nbformat_minor": 0,
  "metadata": {
    "colab": {
      "provenance": []
    },
    "kernelspec": {
      "name": "python3",
      "display_name": "Python 3"
    },
    "language_info": {
      "name": "python"
    }
  },
  "cells": [
    {
      "cell_type": "code",
      "execution_count": null,
      "metadata": {
        "id": "ScAoolwckjM5"
      },
      "outputs": [],
      "source": []
    },
    {
      "cell_type": "markdown",
      "source": [
        "1. What is Object-Oriented Programmingin oops?\n",
        "-Object-Oriented Programming (OOP) is a programming paradigm based on the concept of \"objects\", which are instances of classes. It allows you to structure your code by grouping data (attributes) and functions (methods) that operate on the data into a single unit — the object.\n",
        "\n",
        "\n"
      ],
      "metadata": {
        "id": "aRmd7zMdkn-4"
      }
    },
    {
      "cell_type": "markdown",
      "source": [
        "2. What is a class in OOPs?\n",
        "-In Object-Oriented Programming (OOP), a class is a blueprint or template used to create objects. It defines the structure and behavior (data and functions) that the objects created from the class will have.\n",
        "\n",
        "\n"
      ],
      "metadata": {
        "id": "WvIJ9OGglFTW"
      }
    },
    {
      "cell_type": "markdown",
      "source": [
        "3.What is an object in OOP?\n",
        "-In Object-Oriented Programming (OOP), an object is a real-world entity or instance of a class. It contains data (attributes) and behavior (methods) defined by its class.\n",
        "\n",
        "\n"
      ],
      "metadata": {
        "id": "ifAg6kDylTtT"
      }
    },
    {
      "cell_type": "markdown",
      "source": [
        "4. What is the difference between abstraction and encapsulation?\n",
        "-Abstraction\n",
        ".Hides complex implementation details and shows only essential features\n",
        ".To reduce complexity and make code easier to use\n",
        ".Focus on What an object does\n",
        ".Achieved by Using abstract classes, interfaces, or methods\n",
        ".Shows only necessary parts\n",
        "-Encapsulation\n",
        ".Hides internal data by wrapping it with code (class), restricting direct access\n",
        ".To protect the internal state of an object\n",
        ".Focus on How an object does it\n",
        ".Achieved by Using access modifiers (like private, public) and getter/setter methods\n",
        ".Restricts access to parts of the code/data\n",
        "\n"
      ],
      "metadata": {
        "id": "_x8ao0polibu"
      }
    },
    {
      "cell_type": "markdown",
      "source": [
        "5. What are dunder methods in Python?\n",
        "-Dunder methods (short for “double underscore” methods) in Python are special methods that start and end with double underscores, like __init__, __str__, __add__, etc.\n",
        "\n",
        "Also called as magic and specialmethods"
      ],
      "metadata": {
        "id": "K9of5gmGnDEy"
      }
    },
    {
      "cell_type": "markdown",
      "source": [
        "6. Explain the concept of inheritance in OOPS\n",
        "-Inheritance is an Object-Oriented Programming (OOP) concept where a child class (subclass) inherits properties and behaviors (attributes and methods) from a parent class (superclass).\n",
        "\n",
        "It promotes code reusability, hierarchical classification, and extensibility.\n",
        "\n"
      ],
      "metadata": {
        "id": "-fojfNY6nVWg"
      }
    },
    {
      "cell_type": "markdown",
      "source": [
        "7. What is polymorphism in OOPS\n",
        "-Polymorphism is a core concept in Object-Oriented Programming (OOP) that means \"many forms.\" It allows the same interface or method name to behave differently based on the context — typically depending on the object using it.\n",
        "\n",
        "\n"
      ],
      "metadata": {
        "id": "sLdAqhm5nn7p"
      }
    },
    {
      "cell_type": "markdown",
      "source": [
        "8. How is encapsulation achieved in Python\n",
        "-🔹 1. Using Underscores to Indicate Access Levels\n",
        "public_var\n",
        "_protected_var\n",
        "private\n",
        "2.Using classes\n",
        "3.Getter ad Setter methods\n",
        "\n"
      ],
      "metadata": {
        "id": "6xQ0ahV7nzPo"
      }
    },
    {
      "cell_type": "markdown",
      "source": [
        "9. What is a constructor in Python\n",
        "-A constructor in Python is a special method used to initialize a newly created object from a class. It is automatically called when an object is created.\n",
        "\n",
        "The constructor method in Python is named __init__.\n",
        "\n",
        "\n"
      ],
      "metadata": {
        "id": "CEK5_3Fcouk0"
      }
    },
    {
      "cell_type": "markdown",
      "source": [
        "10. What are class and static methods in Python\n",
        "-A class method is a method that takes the class itself as the first argument, not the instance. It is marked with the @classmethod decorator.\n",
        "\n",
        "-A static method is a method that does not take self or cls as the first argument. It is marked with the @staticmethod decorator.\n",
        "\n",
        "\n"
      ],
      "metadata": {
        "id": "nDCExDiso8qE"
      }
    },
    {
      "cell_type": "markdown",
      "source": [
        "11. What is method overloading in Python\n",
        "-Method overloading is a feature that allows a class to have multiple methods with the same name but different arguments (number or type). It's commonly supported in many languages like Java or C++, but Python does NOT support traditional method overloading directly.\n",
        "\n"
      ],
      "metadata": {
        "id": "WnDOe0HtpQV6"
      }
    },
    {
      "cell_type": "markdown",
      "source": [
        "12. What is method overriding in OOPs\n",
        "-Method overriding in Object-Oriented Programming (OOP) is a feature that allows a subclass (child class) to provide a specific implementation of a method that is already defined in its superclass (parent class).\n",
        "\n",
        "\n"
      ],
      "metadata": {
        "id": "fOOKtw5VpgHD"
      }
    },
    {
      "cell_type": "markdown",
      "source": [
        "13.What is a property decorator in Python\n",
        "-In Python, the @property decorator is used to define getter methods in a class, allowing you to access a method like an attribute. It’s a key part of encapsulation, providing controlled access to private attributes.\n",
        "\n",
        "\n"
      ],
      "metadata": {
        "id": "gPvWoF8Ip6eh"
      }
    },
    {
      "cell_type": "markdown",
      "source": [
        "14. Why is polymorphism important in OOP\n",
        "-Polymorphism is important in Object-Oriented Programming (OOP) because it enables flexibility, reusability, and scalability in code by allowing the same interface to behave differently for different data types or classes.\n",
        "\n"
      ],
      "metadata": {
        "id": "dnotlhCHqLB1"
      }
    },
    {
      "cell_type": "markdown",
      "source": [
        "15. What is an abstract class in Python\n",
        "-An abstract class in Python is a class that cannot be instantiated on its own and is meant to be inherited by other classes. It serves as a blueprint for subclasses, enforcing that certain methods must be implemented by any subclass.\n",
        "\n"
      ],
      "metadata": {
        "id": "-c7t_IW2qXWo"
      }
    },
    {
      "cell_type": "markdown",
      "source": [
        "16. What are the advantages of OOP\n",
        "-✅ 1. Modularity\n",
        "✅ 2. Reusability\n",
        "✅ 3. Encapsulation\n",
        "✅ 4. Abstraction\n",
        "✅ 5. Polymorphism\n",
        "✅ 6. Scalability and Maintainability\n",
        "✅ 7. Real-World Mapping\n",
        "\n",
        "\n",
        "\n",
        "\n"
      ],
      "metadata": {
        "id": "YPjYbnhYqimM"
      }
    },
    {
      "cell_type": "markdown",
      "source": [
        "17. What is the difference between a class variable and an instance variable\n",
        "-🔸 Instance Variable\n",
        ".Defined inside a method, usually inside __init__().\n",
        "\n",
        ".Belongs to the object (instance) of the class.\n",
        "\n",
        ".Each object gets its own copy of the variable.\n",
        "\n",
        ".Used to store data that is unique to each object.\n",
        "🔸 Class Variable\n",
        ".Defined inside the class, but outside any method.\n",
        "\n",
        ".Shared by all instances of the class.\n",
        "\n",
        ".Used to store data that is common to all instances.\n",
        "\n",
        "\n",
        "\n"
      ],
      "metadata": {
        "id": "wMbWUuGbrGhI"
      }
    },
    {
      "cell_type": "code",
      "source": [
        "18. What is multiple inheritance in Python\n",
        "-Multiple inheritance is a feature in object-oriented programming where a class can inherit attributes and methods from more than one parent class.\n",
        "\n"
      ],
      "metadata": {
        "id": "zYlHBLDdr2B2"
      },
      "execution_count": null,
      "outputs": []
    },
    {
      "cell_type": "markdown",
      "source": [
        " 19.Explain the purpose of ‘’__str__’ and ‘__repr__’ ‘ methods in Python\n",
        " -🔹 __str__ → For Readable Output\n",
        ".Used by the print() function or str() to return a user-friendly string.\n",
        "\n",
        ".Intended for end users.\n",
        "\n",
        "Should be easy to read and descriptive.\n",
        "🔸 __repr__ → For Debugging/Developers\n",
        ".Used by the repr() function and interactive interpreter.\n",
        "\n",
        ".Returns a formal string representation that, if possible, can be used to recreate the object.\n",
        "\n",
        ".Intended for developers.\n",
        "\n",
        "\n",
        "\n"
      ],
      "metadata": {
        "id": "4d-DmN4EsILW"
      }
    },
    {
      "cell_type": "markdown",
      "source": [
        "20.What is the significance of the ‘super()’ function in Python\n",
        "-The super() function in Python is used to call methods from a parent (or superclass) within a child class. It is especially useful in the context of inheritance.\n",
        "\n",
        "\n"
      ],
      "metadata": {
        "id": "y1pSjzens4U3"
      }
    },
    {
      "cell_type": "markdown",
      "source": [
        "21.What is the significance of the __del__ method in Python\n",
        "-The __del__ method in Python is a special method (also called a destructor) that is called when an object is about to be destroyed (i.e., when it is garbage collected).\n",
        "\n",
        "\n"
      ],
      "metadata": {
        "id": "Cc8LGPT4tLkR"
      }
    },
    {
      "cell_type": "markdown",
      "source": [
        "22. What is the difference between @staticmethod and @classmethod in Python\n",
        "-✅ @staticmethod\n",
        ".Does not take self or cls as the first argument.\n",
        "\n",
        ".Acts like a regular function but lives in the class's namespace.\n",
        "\n",
        ".Cannot access or modify class or instance state.\n",
        "\n",
        ".Used when the method doesn’t depend on instance or class.\n",
        "\n",
        "✅ @classmethod\n",
        ".Takes cls as the first argument, representing the class itself.\n",
        "\n",
        ".Can access or modify class-level attributes or create new instances.\n",
        "\n",
        ".Often used for factory methods.\n",
        "\n"
      ],
      "metadata": {
        "id": "udIU4HUEtWwK"
      }
    },
    {
      "cell_type": "markdown",
      "source": [
        "23. How does polymorphism work in Python with inheritance\n",
        "-Polymorphism means \"many forms\", and in Python (especially with inheritance), it allows objects of different classes to be treated as if they are objects of a common superclass, especially when they override the same method.\n",
        "\n"
      ],
      "metadata": {
        "id": "I6kTRv4bt4Mf"
      }
    },
    {
      "cell_type": "markdown",
      "source": [
        "24. What is method chaining in Python OOPs\n",
        "-Method chaining is a technique in Object-Oriented Programming where multiple methods are called on the same object in a single line, one after the other.\n",
        "\n",
        "\n"
      ],
      "metadata": {
        "id": "LteZEVR1uA6y"
      }
    },
    {
      "cell_type": "markdown",
      "source": [
        "25. What is the purpose of the __call__ method in Python?\n",
        "-The __call__ method in Python makes an object behave like a function. If a class defines the __call__() method, instances of that class can be called like regular functions.\n",
        "\n"
      ],
      "metadata": {
        "id": "FBZD-RLvuK5W"
      }
    },
    {
      "cell_type": "code",
      "source": [
        "Practical Q&A\n"
      ],
      "metadata": {
        "id": "vbif-IL9uWO_"
      },
      "execution_count": null,
      "outputs": []
    },
    {
      "cell_type": "markdown",
      "source": [
        "# New Section"
      ],
      "metadata": {
        "id": "i7Slz4jAuVML"
      }
    },
    {
      "cell_type": "markdown",
      "source": [
        "1. Create a parent class Animal with a method speak() that prints a generic message. Create a child class Dog that overrides the speak() method to print \"Bark!\".\n"
      ],
      "metadata": {
        "id": "QLmccJHIudEV"
      }
    },
    {
      "cell_type": "code",
      "source": [
        "# Parent class\n",
        "class Animal:\n",
        "    def speak(self):\n",
        "        print(\"The animal makes a sound.\")\n",
        "\n",
        "# Child class\n",
        "class Dog(Animal):\n",
        "    def speak(self):\n",
        "        print(\"Bark!\")\n",
        "\n",
        "# Test\n",
        "a = Animal()\n",
        "a.speak()  # Output: The animal makes a sound.\n",
        "\n",
        "d = Dog()\n",
        "d.speak()  # Output: Bark!\n"
      ],
      "metadata": {
        "colab": {
          "base_uri": "https://localhost:8080/"
        },
        "id": "CEU85Nr5urU_",
        "outputId": "0dfe52ae-7322-4e47-e654-90e9a1abd7fc"
      },
      "execution_count": 1,
      "outputs": [
        {
          "output_type": "stream",
          "name": "stdout",
          "text": [
            "The animal makes a sound.\n",
            "Bark!\n"
          ]
        }
      ]
    },
    {
      "cell_type": "code",
      "source": [],
      "metadata": {
        "id": "tu6A2aEdusKU"
      },
      "execution_count": null,
      "outputs": []
    },
    {
      "cell_type": "markdown",
      "source": [
        "2. Write a program to create an abstract class Shape with a method area(). Derive classes Circle and Rectangle\n",
        "from it and implement the area() method in both."
      ],
      "metadata": {
        "id": "2bWiecD0uw2q"
      }
    },
    {
      "cell_type": "code",
      "source": [
        "from abc import ABC, abstractmethod\n",
        "import math\n",
        "\n",
        "# Abstract class\n",
        "class Shape(ABC):\n",
        "    @abstractmethod\n",
        "    def area(self):\n",
        "        pass\n",
        "\n",
        "# Derived class: Circle\n",
        "class Circle(Shape):\n",
        "    def __init__(self, radius):\n",
        "        self.radius = radius\n",
        "\n",
        "    def area(self):\n",
        "        return math.pi * self.radius ** 2\n",
        "\n",
        "# Derived class: Rectangle\n",
        "class Rectangle(Shape):\n",
        "    def __init__(self, width, height):\n",
        "        self.width = width\n",
        "        self.height = height\n",
        "\n",
        "    def area(self):\n",
        "        return self.width * self.height\n",
        "\n",
        "# Test the classes\n",
        "shapes = [\n",
        "    Circle(5),\n",
        "    Rectangle(4, 6)\n",
        "]\n",
        "\n",
        "for shape in shapes:\n",
        "    print(f\"{shape.__class__.__name__} area: {shape.area():.2f}\")\n"
      ],
      "metadata": {
        "colab": {
          "base_uri": "https://localhost:8080/"
        },
        "id": "tJD7cDF3u9df",
        "outputId": "6d8fea47-9a73-4827-fc17-4ce632a0084e"
      },
      "execution_count": 3,
      "outputs": [
        {
          "output_type": "stream",
          "name": "stdout",
          "text": [
            "Circle area: 78.54\n",
            "Rectangle area: 24.00\n"
          ]
        }
      ]
    },
    {
      "cell_type": "code",
      "source": [],
      "metadata": {
        "id": "3hTDNmYPvEj0"
      },
      "execution_count": null,
      "outputs": []
    },
    {
      "cell_type": "markdown",
      "source": [
        "3. Implement a multi-level inheritance scenario where a class Vehicle has an attribute type. Derive a class Car\n",
        "and further derive a class ElectricCar that adds a battery attribute."
      ],
      "metadata": {
        "id": "QZ-PhYBnvFam"
      }
    },
    {
      "cell_type": "code",
      "source": [
        "# Base class\n",
        "class Vehicle:\n",
        "    def __init__(self, type):\n",
        "        self.type = type\n",
        "\n",
        "    def display_type(self):\n",
        "        print(f\"Vehicle type: {self.type}\")\n",
        "\n",
        "# Derived class from Vehicle\n",
        "class Car(Vehicle):\n",
        "    def __init__(self, type, brand):\n",
        "        super().__init__(type)\n",
        "        self.brand = brand\n",
        "\n",
        "    def display_brand(self):\n",
        "        print(f\"Car brand: {self.brand}\")\n",
        "\n",
        "# Derived class from Car (multi-level)\n",
        "class ElectricCar(Car):\n",
        "    def __init__(self, type, brand, battery):\n",
        "        super().__init__(type, brand)\n",
        "        self.battery = battery\n",
        "\n",
        "    def display_battery(self):\n",
        "        print(f\"Battery capacity: {self.battery} kWh\")\n",
        "\n",
        "# Test the ElectricCar class\n",
        "e_car = ElectricCar(\"Four-wheeler\", \"Tesla\", 75)\n",
        "e_car.display_type()       # From Vehicle\n",
        "e_car.display_brand()      # From Car\n",
        "e_car.display_battery()    # From ElectricCar\n"
      ],
      "metadata": {
        "colab": {
          "base_uri": "https://localhost:8080/"
        },
        "id": "EeBL8H1SvWlA",
        "outputId": "b9fb0dfd-1fcb-4bc7-9807-fc64dc1acdbc"
      },
      "execution_count": 5,
      "outputs": [
        {
          "output_type": "stream",
          "name": "stdout",
          "text": [
            "Vehicle type: Four-wheeler\n",
            "Car brand: Tesla\n",
            "Battery capacity: 75 kWh\n"
          ]
        }
      ]
    },
    {
      "cell_type": "code",
      "source": [],
      "metadata": {
        "id": "Pv9oLVHJvdxR"
      },
      "execution_count": null,
      "outputs": []
    },
    {
      "cell_type": "markdown",
      "source": [
        "4. Demonstrate polymorphism by creating a base class Bird with a method fly(). Create two derived classes Sparrow and Penguin that override the fly() method.\n",
        "\n"
      ],
      "metadata": {
        "id": "aJHVseKLve9u"
      }
    },
    {
      "cell_type": "code",
      "source": [
        "# Base class\n",
        "class Bird:\n",
        "    def fly(self):\n",
        "        print(\"Some birds can fly.\")\n",
        "\n",
        "# Derived class\n",
        "class Sparrow(Bird):\n",
        "    def fly(self):\n",
        "        print(\"Sparrow flies high in the sky.\")\n",
        "\n",
        "# Derived class\n",
        "class Penguin(Bird):\n",
        "    def fly(self):\n",
        "        print(\"Penguins can't fly, but they can swim!\")\n",
        "\n",
        "# Polymorphic behavior\n",
        "def show_flight(bird):\n",
        "    bird.fly()\n",
        "\n",
        "# Test with different bird types\n",
        "birds = [Sparrow(), Penguin()]\n",
        "\n",
        "for b in birds:\n",
        "    show_flight(b)\n"
      ],
      "metadata": {
        "colab": {
          "base_uri": "https://localhost:8080/"
        },
        "id": "GA8yRBKDvy5_",
        "outputId": "c569a3f2-a094-4001-cf71-c67a2fc3dc39"
      },
      "execution_count": 6,
      "outputs": [
        {
          "output_type": "stream",
          "name": "stdout",
          "text": [
            "Sparrow flies high in the sky.\n",
            "Penguins can't fly, but they can swim!\n"
          ]
        }
      ]
    },
    {
      "cell_type": "code",
      "source": [],
      "metadata": {
        "id": "8KcE1KG-vzqC"
      },
      "execution_count": null,
      "outputs": []
    },
    {
      "cell_type": "markdown",
      "source": [
        "5. Write a program to demonstrate encapsulation by creating a class BankAccount with private attributes\n",
        "balance and methods to deposit, withdraw, and check balance."
      ],
      "metadata": {
        "id": "azl2MP3Wv0hp"
      }
    },
    {
      "cell_type": "code",
      "source": [
        "class BankAccount:\n",
        "    def __init__(self, initial_balance=0):\n",
        "        self.__balance = initial_balance  # Private attribute\n",
        "\n",
        "    # Method to deposit money\n",
        "    def deposit(self, amount):\n",
        "        if amount > 0:\n",
        "            self.__balance += amount\n",
        "            print(f\"Deposited: ₹{amount}\")\n",
        "        else:\n",
        "            print(\"Deposit amount must be positive.\")\n",
        "\n",
        "    # Method to withdraw money\n",
        "    def withdraw(self, amount):\n",
        "        if 0 < amount <= self.__balance:\n",
        "            self.__balance -= amount\n",
        "            print(f\"Withdrawn: ₹{amount}\")\n",
        "        else:\n",
        "            print(\"Insufficient funds or invalid amount.\")\n",
        "\n",
        "    # Method to check balance\n",
        "    def check_balance(self):\n",
        "        print(f\"Current Balance: ₹{self.__balance}\")\n",
        "\n",
        "# Test the class\n",
        "account = BankAccount(1000)\n",
        "account.check_balance()    # Output: Current Balance: ₹1000\n",
        "account.deposit(500)       # Output: Deposited: ₹500\n",
        "account.withdraw(300)      # Output: Withdrawn: ₹300\n",
        "account.check_balance()    # Output: Current Balance: ₹1200\n",
        "\n",
        "# Trying to access private attribute directly (will fail)\n",
        "# print(account.__balance)  # Uncommenting this will raise an AttributeError\n"
      ],
      "metadata": {
        "colab": {
          "base_uri": "https://localhost:8080/"
        },
        "id": "qwUpE_dnv9_1",
        "outputId": "86c6f451-6c70-449c-a74a-278f01639e53"
      },
      "execution_count": 7,
      "outputs": [
        {
          "output_type": "stream",
          "name": "stdout",
          "text": [
            "Current Balance: ₹1000\n",
            "Deposited: ₹500\n",
            "Withdrawn: ₹300\n",
            "Current Balance: ₹1200\n"
          ]
        }
      ]
    },
    {
      "cell_type": "code",
      "source": [],
      "metadata": {
        "id": "hDdwNfrav-nR"
      },
      "execution_count": null,
      "outputs": []
    },
    {
      "cell_type": "markdown",
      "source": [
        "6. Demonstrate runtime polymorphism using a method play() in a base class Instrument. Derive classes Guitar\n",
        "and Piano that implement their own version of play()"
      ],
      "metadata": {
        "id": "bn24d77cv_Vh"
      }
    },
    {
      "cell_type": "code",
      "source": [
        "# Base class\n",
        "class Instrument:\n",
        "    def play(self):\n",
        "        print(\"Playing an instrument.\")\n",
        "\n",
        "# Derived class\n",
        "class Guitar(Instrument):\n",
        "    def play(self):\n",
        "        print(\"Strumming the guitar.\")\n",
        "\n",
        "# Derived class\n",
        "class Piano(Instrument):\n",
        "    def play(self):\n",
        "        print(\"Playing the piano.\")\n",
        "\n",
        "# Function that demonstrates polymorphism\n",
        "def perform(instrument):\n",
        "    instrument.play()\n",
        "\n",
        "# Test with different instrument objects\n",
        "instruments = [Guitar(), Piano()]\n",
        "\n",
        "for i in instruments:\n",
        "    perform(i)\n"
      ],
      "metadata": {
        "colab": {
          "base_uri": "https://localhost:8080/"
        },
        "id": "DzSlViymwHJB",
        "outputId": "494e4d72-b121-4464-9d2e-38e6451009a9"
      },
      "execution_count": 8,
      "outputs": [
        {
          "output_type": "stream",
          "name": "stdout",
          "text": [
            "Strumming the guitar.\n",
            "Playing the piano.\n"
          ]
        }
      ]
    },
    {
      "cell_type": "code",
      "source": [],
      "metadata": {
        "id": "DZmwq0ZmwH2r"
      },
      "execution_count": null,
      "outputs": []
    },
    {
      "cell_type": "markdown",
      "source": [
        "7. Create a class MathOperations with a class method add_numbers() to add two numbers and a static\n",
        "method subtract_numbers() to subtract two numbers."
      ],
      "metadata": {
        "id": "7z-C5Z0kwIrt"
      }
    },
    {
      "cell_type": "code",
      "source": [
        "class MathOperations:\n",
        "    @classmethod\n",
        "    def add_numbers(cls, a, b):\n",
        "        return a + b\n",
        "\n",
        "    @staticmethod\n",
        "    def subtract_numbers(a, b):\n",
        "        return a - b\n",
        "\n",
        "# Test the methods\n",
        "sum_result = MathOperations.add_numbers(10, 5)\n",
        "sub_result = MathOperations.subtract_numbers(10, 5)\n",
        "\n",
        "print(f\"Addition Result: {sum_result}\")     # Output: 15\n",
        "print(f\"Subtraction Result: {sub_result}\")  # Output: 5\n"
      ],
      "metadata": {
        "colab": {
          "base_uri": "https://localhost:8080/"
        },
        "id": "17JSt37WwSyp",
        "outputId": "4395e8ff-ab6f-487a-dc49-cb94b18de85b"
      },
      "execution_count": 9,
      "outputs": [
        {
          "output_type": "stream",
          "name": "stdout",
          "text": [
            "Addition Result: 15\n",
            "Subtraction Result: 5\n"
          ]
        }
      ]
    },
    {
      "cell_type": "code",
      "source": [],
      "metadata": {
        "id": "MSikICxNwTbb"
      },
      "execution_count": null,
      "outputs": []
    },
    {
      "cell_type": "markdown",
      "source": [
        "8. Implement a class Person with a class method to count the total number of persons created."
      ],
      "metadata": {
        "id": "6J-dgwXuwUBv"
      }
    },
    {
      "cell_type": "code",
      "source": [
        "class Person:\n",
        "    count = 0  # Class variable to track number of persons\n",
        "\n",
        "    def __init__(self, name):\n",
        "        self.name = name\n",
        "        Person.count += 1\n",
        "\n",
        "    @classmethod\n",
        "    def total_persons(cls):\n",
        "        return cls.count\n",
        "\n",
        "# Create Person instances\n",
        "p1 = Person(\"Alice\")\n",
        "p2 = Person(\"Bob\")\n",
        "p3 = Person(\"Charlie\")\n",
        "\n",
        "# Use class method to get total count\n",
        "print(f\"Total persons created: {Person.total_persons()}\")  # Output: 3\n"
      ],
      "metadata": {
        "colab": {
          "base_uri": "https://localhost:8080/"
        },
        "id": "x58kOogxwbAH",
        "outputId": "aa81c1d4-8e1e-4974-83d8-37d3547210b6"
      },
      "execution_count": 10,
      "outputs": [
        {
          "output_type": "stream",
          "name": "stdout",
          "text": [
            "Total persons created: 3\n"
          ]
        }
      ]
    },
    {
      "cell_type": "code",
      "source": [],
      "metadata": {
        "id": "Ip9SMo3ZwbqQ"
      },
      "execution_count": null,
      "outputs": []
    },
    {
      "cell_type": "markdown",
      "source": [
        "9. Write a class Fraction with attributes numerator and denominator. Override the str method to display the\n",
        "fraction as \"numerator/denominator\""
      ],
      "metadata": {
        "id": "Jgb3rBkowcUf"
      }
    },
    {
      "cell_type": "code",
      "source": [
        "class Fraction:\n",
        "    def __init__(self, numerator, denominator):\n",
        "        self.numerator = numerator\n",
        "        self.denominator = denominator\n",
        "\n",
        "    def __str__(self):\n",
        "        return f\"{self.numerator}/{self.denominator}\"\n",
        "\n",
        "# Test the class\n",
        "f1 = Fraction(3, 4)\n",
        "f2 = Fraction(7, 2)\n",
        "\n",
        "print(f1)  # Output: 3/4\n",
        "print(f2)  # Output: 7/2\n"
      ],
      "metadata": {
        "colab": {
          "base_uri": "https://localhost:8080/"
        },
        "id": "3ai0Udr1wsDI",
        "outputId": "4b3e070d-8707-4193-9be8-8aa9f2708db3"
      },
      "execution_count": 11,
      "outputs": [
        {
          "output_type": "stream",
          "name": "stdout",
          "text": [
            "3/4\n",
            "7/2\n"
          ]
        }
      ]
    },
    {
      "cell_type": "code",
      "source": [],
      "metadata": {
        "id": "8nQ7QjmzwspW"
      },
      "execution_count": null,
      "outputs": []
    },
    {
      "cell_type": "markdown",
      "source": [
        "10. Demonstrate operator overloading by creating a class Vector and overriding the add method to add two vectors\n"
      ],
      "metadata": {
        "id": "VDHVIMd9wtQD"
      }
    },
    {
      "cell_type": "code",
      "source": [
        "class Vector:\n",
        "    def __init__(self, x, y):\n",
        "        self.x = x\n",
        "        self.y = y\n",
        "\n",
        "    def __add__(self, other):\n",
        "        # Overloading the + operator\n",
        "        return Vector(self.x + other.x, self.y + other.y)\n",
        "\n",
        "    def __str__(self):\n",
        "        return f\"Vector({self.x}, {self.y})\"\n",
        "\n",
        "# Test the Vector class\n",
        "v1 = Vector(2, 3)\n",
        "v2 = Vector(4, 5)\n",
        "v3 = v1 + v2  # Internally calls v1.__add__(v2)\n",
        "\n",
        "print(v1)  # Output: Vector(2, 3)\n",
        "print(v2)  # Output: Vector(4, 5)\n",
        "print(v3)  # Output: Vector(6, 8)\n"
      ],
      "metadata": {
        "colab": {
          "base_uri": "https://localhost:8080/"
        },
        "id": "BxsFgLVWw9pw",
        "outputId": "d74cb6ff-4f8a-4b95-f9fb-ba8e1623266f"
      },
      "execution_count": 12,
      "outputs": [
        {
          "output_type": "stream",
          "name": "stdout",
          "text": [
            "Vector(2, 3)\n",
            "Vector(4, 5)\n",
            "Vector(6, 8)\n"
          ]
        }
      ]
    },
    {
      "cell_type": "code",
      "source": [],
      "metadata": {
        "id": "cG4EsRjPw-Uf"
      },
      "execution_count": null,
      "outputs": []
    },
    {
      "cell_type": "markdown",
      "source": [
        "11. Create a class Person with attributes name and age. Add a method greet() that prints \"Hello, my name is\n",
        "{name} and I am {age} years old\"."
      ],
      "metadata": {
        "id": "AR6CrHQow--I"
      }
    },
    {
      "cell_type": "code",
      "source": [
        "class Person:\n",
        "    def __init__(self, name, age):\n",
        "        self.name = name\n",
        "        self.age = age\n",
        "\n",
        "    def greet(self):\n",
        "        print(f\"Hello, my name is {self.name} and I am {self.age} years old.\")\n",
        "\n",
        "# Test the class\n",
        "p1 = Person(\"Alice\", 30)\n",
        "p2 = Person(\"Bob\", 25)\n",
        "\n",
        "p1.greet()  # Output: Hello, my name is Alice and I am 30 years old.\n",
        "p2.greet()  # Output: Hello, my name is Bob and I am 25 years old.\n"
      ],
      "metadata": {
        "colab": {
          "base_uri": "https://localhost:8080/"
        },
        "id": "Rxmd7gAoxMSd",
        "outputId": "efb61bdd-df57-48a7-ec1b-1d4d57368894"
      },
      "execution_count": 13,
      "outputs": [
        {
          "output_type": "stream",
          "name": "stdout",
          "text": [
            "Hello, my name is Alice and I am 30 years old.\n",
            "Hello, my name is Bob and I am 25 years old.\n"
          ]
        }
      ]
    },
    {
      "cell_type": "code",
      "source": [],
      "metadata": {
        "id": "XtW3Z3sfxM1W"
      },
      "execution_count": null,
      "outputs": []
    },
    {
      "cell_type": "markdown",
      "source": [
        "12. Implement a class Student with attributes name and grades. Create a method average_grade() to compute\n",
        "the average of the grades\n"
      ],
      "metadata": {
        "id": "-u68Yj8exNhW"
      }
    },
    {
      "cell_type": "code",
      "source": [
        "class Student:\n",
        "    def __init__(self, name, grades):\n",
        "        self.name = name\n",
        "        self.grades = grades  # A list of numeric grades\n",
        "\n",
        "    def average_grade(self):\n",
        "        if self.grades:\n",
        "            return sum(self.grades) / len(self.grades)\n",
        "        else:\n",
        "            return 0  # Return 0 if there are no grades\n",
        "\n",
        "# Test the class\n",
        "s1 = Student(\"Alice\", [85, 90, 78])\n",
        "s2 = Student(\"Bob\", [92, 88, 79, 95])\n",
        "\n",
        "print(f\"{s1.name}'s average grade: {s1.average_grade():.2f}\")  # Output: 84.33\n",
        "print(f\"{s2.name}'s average grade: {s2.average_grade():.2f}\")  # Output: 88.50\n"
      ],
      "metadata": {
        "colab": {
          "base_uri": "https://localhost:8080/"
        },
        "id": "P7of2enExW2_",
        "outputId": "0affda32-6cad-4ff9-b723-b6ada163bb0b"
      },
      "execution_count": 14,
      "outputs": [
        {
          "output_type": "stream",
          "name": "stdout",
          "text": [
            "Alice's average grade: 84.33\n",
            "Bob's average grade: 88.50\n"
          ]
        }
      ]
    },
    {
      "cell_type": "code",
      "source": [],
      "metadata": {
        "id": "7AgWdtzMxXfi"
      },
      "execution_count": null,
      "outputs": []
    },
    {
      "cell_type": "markdown",
      "source": [
        "13. Create a class Rectangle with methods set_dimensions() to set the dimensions and area() to calculate the area\n"
      ],
      "metadata": {
        "id": "jVfzRzEOxYHz"
      }
    },
    {
      "cell_type": "code",
      "source": [
        "class Rectangle:\n",
        "    def __init__(self):\n",
        "        self.length = 0\n",
        "        self.width = 0\n",
        "\n",
        "    def set_dimensions(self, length, width):\n",
        "        self.length = length\n",
        "        self.width = width\n",
        "\n",
        "    def area(self):\n",
        "        return self.length * self.width\n",
        "\n",
        "# Test the class\n",
        "rect = Rectangle()\n",
        "rect.set_dimensions(5, 4)\n",
        "print(f\"Area of rectangle: {rect.area()}\")  # Output: 20\n"
      ],
      "metadata": {
        "colab": {
          "base_uri": "https://localhost:8080/"
        },
        "id": "D87sTkKGxhg-",
        "outputId": "8ae01848-3eec-46b1-f472-e13fd49aab61"
      },
      "execution_count": 15,
      "outputs": [
        {
          "output_type": "stream",
          "name": "stdout",
          "text": [
            "Area of rectangle: 20\n"
          ]
        }
      ]
    },
    {
      "cell_type": "code",
      "source": [],
      "metadata": {
        "id": "lVkZSnThxiDK"
      },
      "execution_count": null,
      "outputs": []
    },
    {
      "cell_type": "markdown",
      "source": [
        "14. Create a class Employee with a method calculate_salary() that computes the salary based on hours worked\n",
        "and hourly rate. Create a derived class Manager that adds a bonus to the salary"
      ],
      "metadata": {
        "id": "e-DInrIAxioJ"
      }
    },
    {
      "cell_type": "code",
      "source": [
        "# Base class\n",
        "class Employee:\n",
        "    def __init__(self, name, hours_worked, hourly_rate):\n",
        "        self.name = name\n",
        "        self.hours_worked = hours_worked\n",
        "        self.hourly_rate = hourly_rate\n",
        "\n",
        "    def calculate_salary(self):\n",
        "        return self.hours_worked * self.hourly_rate\n",
        "\n",
        "# Derived class\n",
        "class Manager(Employee):\n",
        "    def __init__(self, name, hours_worked, hourly_rate, bonus):\n",
        "        super().__init__(name, hours_worked, hourly_rate)\n",
        "        self.bonus = bonus\n",
        "\n",
        "    def calculate_salary(self):\n",
        "        base_salary = super().calculate_salary()\n",
        "        return base_salary + self.bonus\n",
        "\n",
        "# Test the classes\n",
        "emp = Employee(\"Alice\", 40, 20)\n",
        "mgr = Manager(\"Bob\", 40, 30, 500)\n",
        "\n",
        "print(f\"{emp.name}'s salary: ₹{emp.calculate_salary()}\")   # Output: ₹800\n",
        "print(f\"{mgr.name}'s salary: ₹{mgr.calculate_salary()}\")   # Output: ₹1700\n"
      ],
      "metadata": {
        "colab": {
          "base_uri": "https://localhost:8080/"
        },
        "id": "HIUAv4b9xvxx",
        "outputId": "16d3ede9-4a58-425a-9b8a-3c405595fcaa"
      },
      "execution_count": 17,
      "outputs": [
        {
          "output_type": "stream",
          "name": "stdout",
          "text": [
            "Alice's salary: ₹800\n",
            "Bob's salary: ₹1700\n"
          ]
        }
      ]
    },
    {
      "cell_type": "code",
      "source": [],
      "metadata": {
        "id": "hRpKDm0pxyOV"
      },
      "execution_count": null,
      "outputs": []
    },
    {
      "cell_type": "markdown",
      "source": [
        "15. Create a class Product with attributes name, price, and quantity. Implement a method total_price() that\n",
        "calculates the total price of the product."
      ],
      "metadata": {
        "id": "2LfQ78kFx2mM"
      }
    },
    {
      "cell_type": "code",
      "source": [
        "class Product:\n",
        "    def __init__(self, name, price, quantity):\n",
        "        self.name = name\n",
        "        self.price = price      # Price per unit\n",
        "        self.quantity = quantity  # Number of units\n",
        "\n",
        "    def total_price(self):\n",
        "        return self.price * self.quantity\n",
        "\n",
        "# Test the class\n",
        "product1 = Product(\"Laptop\", 55000, 2)\n",
        "product2 = Product(\"Phone\", 25000, 3)\n",
        "\n",
        "print(f\"{product1.name} total price: ₹{product1.total_price()}\")  # Output: ₹110000\n",
        "print(f\"{product2.name} total price: ₹{product2.total_price()}\")  # Output: ₹75000\n"
      ],
      "metadata": {
        "colab": {
          "base_uri": "https://localhost:8080/"
        },
        "id": "cQVUb3bix8pN",
        "outputId": "6edbefae-ae2c-445a-8bb7-a902719c1623"
      },
      "execution_count": 18,
      "outputs": [
        {
          "output_type": "stream",
          "name": "stdout",
          "text": [
            "Laptop total price: ₹110000\n",
            "Phone total price: ₹75000\n"
          ]
        }
      ]
    },
    {
      "cell_type": "code",
      "source": [],
      "metadata": {
        "id": "LKtEGP9kx9P2"
      },
      "execution_count": null,
      "outputs": []
    },
    {
      "cell_type": "markdown",
      "source": [
        "16. Create a class Animal with an abstract method sound(). Create two derived classes Cow and Sheep that\n",
        "implement the sound() method.\n",
        "\n",
        "\n"
      ],
      "metadata": {
        "id": "94N2fNlrx91P"
      }
    },
    {
      "cell_type": "code",
      "source": [
        "from abc import ABC, abstractmethod\n",
        "\n",
        "# Abstract base class\n",
        "class Animal(ABC):\n",
        "    @abstractmethod\n",
        "    def sound(self):\n",
        "        pass\n",
        "\n",
        "# Derived class: Cow\n",
        "class Cow(Animal):\n",
        "    def sound(self):\n",
        "        return \"Moo\"\n",
        "\n",
        "# Derived class: Sheep\n",
        "class Sheep(Animal):\n",
        "    def sound(self):\n",
        "        return \"Baa\"\n",
        "\n",
        "# Test the classes\n",
        "animals = [Cow(), Sheep()]\n",
        "\n",
        "for animal in animals:\n",
        "    print(f\"{animal.__class__.__name__} makes sound: {animal.sound()}\")\n"
      ],
      "metadata": {
        "colab": {
          "base_uri": "https://localhost:8080/"
        },
        "id": "iQp9FsGyyE-g",
        "outputId": "84a5d244-aaa4-4ce2-888a-538f6af79c7e"
      },
      "execution_count": 19,
      "outputs": [
        {
          "output_type": "stream",
          "name": "stdout",
          "text": [
            "Cow makes sound: Moo\n",
            "Sheep makes sound: Baa\n"
          ]
        }
      ]
    },
    {
      "cell_type": "code",
      "source": [
        "17. Create a class Book with attributes title, author, and year_published. Add a method get_book_info() that\n",
        "returns a formatted string with the book's details.\n",
        "\n",
        "\n"
      ],
      "metadata": {
        "id": "onD04QTHyFeh"
      },
      "execution_count": null,
      "outputs": []
    },
    {
      "cell_type": "code",
      "source": [
        "class Book:\n",
        "    def __init__(self, title, author, year_published):\n",
        "        self.title = title\n",
        "        self.author = author\n",
        "        self.year_published = year_published\n",
        "\n",
        "    def get_book_info(self):\n",
        "        return f\"'{self.title}' by {self.author}, published in {self.year_published}\"\n",
        "\n",
        "# Test the class\n",
        "book1 = Book(\"To Kill a Mockingbird\", \"Harper Lee\", 1960)\n",
        "book2 = Book(\"1984\", \"George Orwell\", 1949)\n",
        "\n",
        "print(book1.get_book_info())  # Output: 'To Kill a Mockingbird' by Harper Lee, published in 1960\n",
        "print(book2.get_book_info())  # Output: '1984' by George Orwell, published in 1949\n"
      ],
      "metadata": {
        "colab": {
          "base_uri": "https://localhost:8080/"
        },
        "id": "GXT9BeAuyWRS",
        "outputId": "4caedac3-9be6-4df4-b47c-c5e2e9854537"
      },
      "execution_count": 20,
      "outputs": [
        {
          "output_type": "stream",
          "name": "stdout",
          "text": [
            "'To Kill a Mockingbird' by Harper Lee, published in 1960\n",
            "'1984' by George Orwell, published in 1949\n"
          ]
        }
      ]
    },
    {
      "cell_type": "code",
      "source": [],
      "metadata": {
        "id": "TVHBJ21UyW-N"
      },
      "execution_count": null,
      "outputs": []
    },
    {
      "cell_type": "markdown",
      "source": [
        "18. Create a class House with attributes address and price. Create a derived class Mansion that adds an attribute number_of_rooms.\n"
      ],
      "metadata": {
        "id": "X6w0iamCyXg8"
      }
    },
    {
      "cell_type": "code",
      "source": [
        "# Base class\n",
        "class House:\n",
        "    def __init__(self, address, price):\n",
        "        self.address = address\n",
        "        self.price = price\n",
        "\n",
        "    def display_info(self):\n",
        "        print(f\"Address: {self.address}\")\n",
        "        print(f\"Price: ₹{self.price}\")\n",
        "\n",
        "# Derived class\n",
        "class Mansion(House):\n",
        "    def __init__(self, address, price, number_of_rooms):\n",
        "        super().__init__(address, price)  # Call the parent constructor\n",
        "        self.number_of_rooms = number_of_rooms\n",
        "\n",
        "    def display_info(self):\n",
        "        super().display_info()  # Call the parent display method\n",
        "        print(f\"Number of Rooms: {self.number_of_rooms}\")\n",
        "\n",
        "# Test the classes\n",
        "house = House(\"123 Main St\", 5000000)\n",
        "mansion = Mansion(\"456 Grand Ave\", 25000000, 10)\n",
        "\n",
        "print(\"House Info:\")\n",
        "house.display_info()\n",
        "\n",
        "print(\"\\nMansion Info:\")\n",
        "mansion.display_info()\n"
      ],
      "metadata": {
        "colab": {
          "base_uri": "https://localhost:8080/"
        },
        "id": "yzrdubtCyoh6",
        "outputId": "bc1495ec-b3f3-4aa1-d4ed-91748ad349be"
      },
      "execution_count": 21,
      "outputs": [
        {
          "output_type": "stream",
          "name": "stdout",
          "text": [
            "House Info:\n",
            "Address: 123 Main St\n",
            "Price: ₹5000000\n",
            "\n",
            "Mansion Info:\n",
            "Address: 456 Grand Ave\n",
            "Price: ₹25000000\n",
            "Number of Rooms: 10\n"
          ]
        }
      ]
    },
    {
      "cell_type": "code",
      "source": [],
      "metadata": {
        "id": "NVKMj7hvypGV"
      },
      "execution_count": null,
      "outputs": []
    }
  ]
}